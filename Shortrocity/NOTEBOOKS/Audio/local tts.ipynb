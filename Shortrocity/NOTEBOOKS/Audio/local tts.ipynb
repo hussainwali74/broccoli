{
 "cells": [
  {
   "cell_type": "code",
   "execution_count": null,
   "metadata": {},
   "outputs": [],
   "source": [
    "from melo.api import TTS\n",
    "\n",
    "# Speed is adjustable\n",
    "speed = 1.0\n",
    "\n",
    "# CPU is sufficient for real-time inference.\n",
    "# You can set it manually to 'cpu' or 'cuda' or 'cuda:0' or 'mps'\n",
    "device = 'auto' # Will automatically use GPU if available\n",
    "\n",
    "# English \n",
    "text = \"Did you ever hear a folk tale about a giant turtle?\"\n",
    "model = TTS(language='EN', device=device)\n",
    "speaker_ids = model.hps.data.spk2id\n",
    "\n",
    "# American accent\n",
    "output_path = 'en-us.wav'\n",
    "model.tts_to_file(text, speaker_ids['EN-US'], output_path, speed=speed)\n",
    "\n",
    "# British accent\n",
    "output_path = 'en-br.wav'\n",
    "model.tts_to_file(text, speaker_ids['EN-BR'], output_path, speed=speed)\n",
    "\n",
    "# Indian accent\n",
    "output_path = 'en-india.wav'\n",
    "model.tts_to_file(text, speaker_ids['EN_INDIA'], output_path, speed=speed)\n",
    "\n",
    "# Australian accent\n",
    "output_path = 'en-au.wav'\n",
    "model.tts_to_file(text, speaker_ids['EN-AU'], output_path, speed=speed)\n",
    "\n",
    "# Default accent\n",
    "output_path = 'en-default.wav'\n",
    "model.tts_to_file(text, speaker_ids['EN-Default'], output_path, speed=speed)\n"
   ]
  },
  {
   "cell_type": "code",
   "execution_count": 1,
   "metadata": {},
   "outputs": [
    {
     "name": "stdout",
     "output_type": "stream",
     "text": [
      "10\n"
     ]
    }
   ],
   "source": [
    "def func(a):\n",
    "    a+=10\n",
    "a = 10\n",
    "func(a)\n",
    "print(a)\n",
    "\n"
   ]
  }
 ],
 "metadata": {
  "kernelspec": {
   "display_name": "captacity",
   "language": "python",
   "name": "python3"
  },
  "language_info": {
   "codemirror_mode": {
    "name": "ipython",
    "version": 3
   },
   "file_extension": ".py",
   "mimetype": "text/x-python",
   "name": "python",
   "nbconvert_exporter": "python",
   "pygments_lexer": "ipython3",
   "version": "3.12.7"
  }
 },
 "nbformat": 4,
 "nbformat_minor": 2
}
