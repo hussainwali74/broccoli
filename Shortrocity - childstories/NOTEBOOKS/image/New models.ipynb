{
 "cells": [
  {
   "cell_type": "markdown",
   "metadata": {},
   "source": [
    "just use the API"
   ]
  },
  {
   "cell_type": "code",
   "execution_count": null,
   "metadata": {},
   "outputs": [],
   "source": [
    "prompt = \"a white siamese cat\"\n",
    "url = f\"https://api.airforce/imagine2?model=flux&prompt={prompt}&size=1:1&seed=50463\"\n",
    "\n"
   ]
  }
 ],
 "metadata": {
  "language_info": {
   "name": "python"
  }
 },
 "nbformat": 4,
 "nbformat_minor": 2
}
