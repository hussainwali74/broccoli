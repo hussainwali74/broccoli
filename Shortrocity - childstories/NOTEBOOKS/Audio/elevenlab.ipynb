{
 "cells": [
  {
   "cell_type": "code",
   "execution_count": null,
   "metadata": {},
   "outputs": [],
   "source": [
    "API_key =\"\"\n"
   ]
  },
  {
   "cell_type": "code",
   "execution_count": 4,
   "metadata": {},
   "outputs": [
    {
     "name": "stdout",
     "output_type": "stream",
     "text": [
      "Aria; 9BWtsMINqrJLrRacOk9x\n",
      "Roger; CwhRBWXzGAHq8TQ4Fs17\n",
      "Sarah; EXAVITQu4vr4xnSDxMaL\n",
      "Laura; FGY2WhTYpPnrIDTdsKH5\n",
      "Charlie; IKne3meq5aSn9XLyUdCD\n",
      "George; JBFqnCBsd6RMkjVDRZzb\n",
      "Callum; N2lVS1w4EtoT3dr4eOWO\n",
      "River; SAz9YHcvj6GT2YYXdXww\n",
      "Liam; TX3LPaxmHKxFdv7VOQHJ\n",
      "Charlotte; XB0fDUnXU5powFXDhCwa\n",
      "Alice; Xb7hH8MSUJpSbSDYk0k2\n",
      "Matilda; XrExE9yKIg1WjnnlVkGX\n",
      "Will; bIHbv24MWmeRgasZH58o\n",
      "Jessica; cgSgspJ2msm6clMCkdW9\n",
      "Eric; cjVigY5qzO86Huf0OWal\n",
      "Chris; iP95p4xoKVk53GoZ742B\n",
      "Brian; nPczCjzI2devNBz1zQrb\n",
      "Daniel; onwK4e9ZLuTAKqWW03F9\n",
      "Lily; pFZP5JQG7iQjIQuC4Bku\n",
      "Bill; pqHfZKP75CvOlQylNhV4\n",
      "Denzel - Casual Narration ; nsQAxyXwUKBvqtEK9MfK\n",
      "Brittney; pjcYQlDFKMbcOUp6F5GD\n",
      "Amelia; ZF6FPAbjXT4488VcRRnw\n"
     ]
    }
   ],
   "source": [
    "# The 'requests' and 'json' libraries are imported.\n",
    "# 'requests' is used to send HTTP requests, while 'json' is used for parsing the JSON data that we receive from the API.\n",
    "import requests\n",
    "import json\n",
    "\n",
    "# An API key is defined here. You'd normally get this from the service you're accessing. It's a form of authentication.\n",
    "XI_API_KEY = API_key\n",
    "\n",
    "# This is the URL for the API endpoint we'll be making a GET request to.\n",
    "url = \"https://api.elevenlabs.io/v1/voices\"\n",
    "\n",
    "# Here, headers for the HTTP request are being set up.\n",
    "# Headers provide metadata about the request. In this case, we're specifying the content type and including our API key for authentication.\n",
    "headers = {\n",
    "  \"Accept\": \"application/json\",\n",
    "  \"xi-api-key\": XI_API_KEY,\n",
    "  \"Content-Type\": \"application/json\"\n",
    "}\n",
    "\n",
    "# A GET request is sent to the API endpoint. The URL and the headers are passed into the request.\n",
    "response = requests.get(url, headers=headers)\n",
    "\n",
    "# The JSON response from the API is parsed using the built-in .json() method from the 'requests' library.\n",
    "# This transforms the JSON data into a Python dictionary for further processing.\n",
    "data = response.json()\n",
    "\n",
    "# A loop is created to iterate over each 'voice' in the 'voices' list from the parsed data.\n",
    "# The 'voices' list consists of dictionaries, each representing a unique voice provided by the API.\n",
    "for voice in data['voices']:\n",
    "  # For each 'voice', the 'name' and 'voice_id' are printed out.\n",
    "  # These keys in the voice dictionary contain values that provide information about the specific voice.\n",
    "  print(f\"{voice['name']}; {voice['voice_id']}\")\n",
    "# Liam; TX3LPaxmHKxFdv7VOQHJ"
   ]
  },
  {
   "cell_type": "code",
   "execution_count": 5,
   "metadata": {},
   "outputs": [
    {
     "name": "stdout",
     "output_type": "stream",
     "text": [
      "Audio stream saved successfully.\n"
     ]
    }
   ],
   "source": [
    "voice_id = \"TX3LPaxmHKxFdv7VOQHJ\"\n",
    "\n",
    "# Import necessary libraries\n",
    "import requests  # Used for making HTTP requests\n",
    "import json  # Used for working with JSON data\n",
    "\n",
    "# Define constants for the script\n",
    "CHUNK_SIZE = 1024  # Size of chunks to read/write at a time\n",
    "XI_API_KEY = API_key  # Your API key for authentication\n",
    "TEXT_TO_SPEAK = \"Netflix is planning a new 'Pride and Prejudice' series, but it's still in the early stages and not officially greenlit yet.\"  # Text you want to convert to speech\n",
    "OUTPUT_PATH = \"generations/elevenlab/output.mp3\"  # Path to save the output audio file\n",
    "\n",
    "# Construct the URL for the Text-to-Speech API request\n",
    "tts_url = f\"https://api.elevenlabs.io/v1/text-to-speech/{voice_id}/stream\"\n",
    "\n",
    "# Set up headers for the API request, including the API key for authentication\n",
    "headers = {\n",
    "    \"Accept\": \"application/json\",\n",
    "    \"xi-api-key\": XI_API_KEY\n",
    "}\n",
    "\n",
    "# Set up the data payload for the API request, including the text and voice settings\n",
    "data = {\n",
    "    \"text\": TEXT_TO_SPEAK,\n",
    "    \"model_id\": \"eleven_multilingual_v2\",\n",
    "    \"voice_settings\": {\n",
    "        \"stability\": 0.5,\n",
    "        \"similarity_boost\": 0.8,\n",
    "        \"style\": 0.0,\n",
    "        \"use_speaker_boost\": True\n",
    "    }\n",
    "}\n",
    "\n",
    "# Make the POST request to the TTS API with headers and data, enabling streaming response\n",
    "response = requests.post(tts_url, headers=headers, json=data, stream=True)\n",
    "\n",
    "# Check if the request was successful\n",
    "if response.ok:\n",
    "    # Open the output file in write-binary mode\n",
    "    with open(OUTPUT_PATH, \"wb\") as f:\n",
    "        # Read the response in chunks and write to the file\n",
    "        for chunk in response.iter_content(chunk_size=CHUNK_SIZE):\n",
    "            f.write(chunk)\n",
    "    # Inform the user of success\n",
    "    print(\"Audio stream saved successfully.\")\n",
    "else:\n",
    "    # Print the error message if the request was not successful\n",
    "    print(response.text)\n"
   ]
  }
 ],
 "metadata": {
  "kernelspec": {
   "display_name": "captacity",
   "language": "python",
   "name": "python3"
  },
  "language_info": {
   "codemirror_mode": {
    "name": "ipython",
    "version": 3
   },
   "file_extension": ".py",
   "mimetype": "text/x-python",
   "name": "python",
   "nbconvert_exporter": "python",
   "pygments_lexer": "ipython3",
   "version": "3.12.7"
  }
 },
 "nbformat": 4,
 "nbformat_minor": 2
}
