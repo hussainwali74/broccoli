{
 "cells": [
  {
   "cell_type": "code",
   "execution_count": 28,
   "metadata": {},
   "outputs": [],
   "source": [
    "import os\n",
    "from dotenv import load_dotenv\n",
    "\n",
    "from deepgram import (\n",
    "    DeepgramClient,\n",
    "    SpeakOptions,\n",
    ")\n",
    "\n",
    "load_dotenv()\n",
    "\n",
    "SPEAK_OPTIONS = {\"text\": \"Hello, how can I help you today? This is a test.\"}\n",
    "filename = \"output.wav\"\n",
    "\n",
    "\n"
   ]
  },
  {
   "cell_type": "code",
   "execution_count": 23,
   "metadata": {},
   "outputs": [
    {
     "name": "stdout",
     "output_type": "stream",
     "text": [
      "{\n",
      "    \"content_type\": \"audio/wav\",\n",
      "    \"request_id\": \"24f7df08-fda2-4d16-b336-0c31415e5cc3\",\n",
      "    \"model_uuid\": \"eed36e9e-37aa-40a3-91fa-a2911e73a5da\",\n",
      "    \"model_name\": \"aura-angus-en\",\n",
      "    \"characters\": 48,\n",
      "    \"transfer_encoding\": \"chunked\",\n",
      "    \"date\": \"Sun, 20 Oct 2024 13:52:12 GMT\",\n",
      "    \"filename\": \"output.mp3\"\n",
      "}\n"
     ]
    }
   ],
   "source": [
    "try:\n",
    "    # STEP 1: Create a Deepgram client using the API key from environment variables\n",
    "    deepgram = DeepgramClient(api_key=os.getenv(\"DG_API_KEY\"))\n",
    "\n",
    "    # STEP 2: Configure the options (such as model choice, audio configuration, etc.)\n",
    "    options = SpeakOptions(\n",
    "        # model=\"aura-luna-en\",\n",
    "        # model=\"aura-orpheus-en\",\n",
    "        # model=\"aura-asteria-en\",\n",
    "        model=\"aura-angus-en\",\n",
    "        encoding=\"linear16\",\n",
    "        container=\"wav\"\n",
    "    )\n",
    "\n",
    "    # STEP 3: Call the save method on the speak property\n",
    "    response = deepgram.speak.rest.v(\"1\").save(filename, SPEAK_OPTIONS, options)\n",
    "    print(response.to_json(indent=4))\n",
    "\n",
    "except Exception as e:\n",
    "    print(f\"Exception: {e}\")\n",
    "\n"
   ]
  },
  {
   "cell_type": "code",
   "execution_count": 29,
   "metadata": {},
   "outputs": [],
   "source": [
    "import winsound\n",
    "winsound.PlaySound(filename, winsound.SND_FILENAME)"
   ]
  }
 ],
 "metadata": {
  "kernelspec": {
   "display_name": "captacity",
   "language": "python",
   "name": "python3"
  },
  "language_info": {
   "codemirror_mode": {
    "name": "ipython",
    "version": 3
   },
   "file_extension": ".py",
   "mimetype": "text/x-python",
   "name": "python",
   "nbconvert_exporter": "python",
   "pygments_lexer": "ipython3",
   "version": "3.12.7"
  }
 },
 "nbformat": 4,
 "nbformat_minor": 2
}
