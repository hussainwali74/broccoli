{
 "cells": [
  {
   "cell_type": "code",
   "execution_count": 2,
   "metadata": {},
   "outputs": [
    {
     "name": "stdout",
     "output_type": "stream",
     "text": [
      "\n",
      "\n",
      " res.message.content[0].text=\"Hello! As an AI language model, I don't have feelings or emotions, but I'm always ready to assist and provide helpful responses. How can I help you today?\"\n",
      "\n",
      " ============\n",
      "\n",
      "\n"
     ]
    }
   ],
   "source": [
    "from dotenv import load_dotenv\n",
    "import os\n",
    "import cohere\n",
    "from cohere.core.client_wrapper import SyncClientWrapper\n",
    "load_dotenv()\n",
    "\n",
    "api_key = os.getenv('COHERE_API_KEY')\n",
    "\n",
    "if not api_key:\n",
    "    class MissingEnvironmentVariable(Exception):\n",
    "        pass\n",
    "    \n",
    "    raise MissingEnvironmentVariable(\"COHERE_API_KEY environment variable is not set\")\n",
    "\n",
    "co = cohere.ClientV2(api_key=api_key) # type: ignore\n",
    "# res = co.chat_stream(model=\"command-r-plus\", messages=[{\"role\": \"user\", \"content\": \"Hello, how are you?\"}]) # type: ignore\n",
    "res = co.chat(model=\"command-r-plus\", messages=[{\"role\": \"user\", \"content\": \"Hello, how are you?\"}]) # type: ignore\n",
    "print(f'\\n\\n {res.message.content[0].text=}');\n",
    "print('\\n ============\\n\\n');"
   ]
  },
  {
   "cell_type": "code",
   "execution_count": 4,
   "metadata": {},
   "outputs": [
    {
     "name": "stdout",
     "output_type": "stream",
     "text": [
      "{\n",
      "    \"people\": [\n",
      "        {\n",
      "            \"name\": \"Alice Johnson\",\n",
      "            \"age\": 35\n",
      "        },\n",
      "        {\n",
      "            \"name\": \"Bob Smith\",\n",
      "            \"age\": 28\n",
      "        },\n",
      "        {\n",
      "            \"name\": \"Charlie Brown\",\n",
      "            \"age\": 52\n",
      "        },\n",
      "        {\n",
      "            \"name\": \"David Lee\",\n",
      "            \"age\": 41\n",
      "        },\n",
      "        {\n",
      "            \"name\": \"Emma Williams\",\n",
      "            \"age\": 22\n",
      "        },\n",
      "        {\n",
      "            \"name\": \"Frank Miller\",\n",
      "            \"age\": 67\n",
      "        },\n",
      "        {\n",
      "            \"name\": \"Grace Moore\",\n",
      "            \"age\": 19\n",
      "        },\n",
      "        {\n",
      "            \"name\": \"Henry Jenkins\",\n",
      "            \"age\": 73\n",
      "        },\n",
      "        {\n",
      "            \"name\": \"Ivy Taylor\",\n",
      "            \"age\": 39\n",
      "        },\n",
      "        {\n",
      "            \"name\": \"Jack Roberts\",\n",
      "            \"age\": 56\n",
      "        }\n",
      "    ]\n",
      "}\n"
     ]
    }
   ],
   "source": [
    "\n",
    "res = co.chat(\n",
    "  model=\"command-r-plus-08-2024\",\n",
    "  messages=[{\"role\": \"user\", \"content\": \"Generate a JSON describing 10 persons, with the fields 'name' and 'age'\"}],\n",
    "  response_format={ \"type\": \"json_object\" }\n",
    ")\n",
    "\n",
    "print(res.message.content[0].text)\n"
   ]
  }
 ],
 "metadata": {
  "kernelspec": {
   "display_name": "captacity",
   "language": "python",
   "name": "python3"
  },
  "language_info": {
   "codemirror_mode": {
    "name": "ipython",
    "version": 3
   },
   "file_extension": ".py",
   "mimetype": "text/x-python",
   "name": "python",
   "nbconvert_exporter": "python",
   "pygments_lexer": "ipython3",
   "version": "3.12.7"
  }
 },
 "nbformat": 4,
 "nbformat_minor": 2
}
